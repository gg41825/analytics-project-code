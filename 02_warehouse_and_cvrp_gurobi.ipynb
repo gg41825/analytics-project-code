{
 "cells": [
  {
   "attachments": {},
   "cell_type": "markdown",
   "metadata": {},
   "source": [
    "# Warehouse allocation + Capacitated VRP"
   ]
  },
  {
   "cell_type": "code",
   "execution_count": null,
   "metadata": {},
   "outputs": [],
   "source": [
    "import numpy as np\n",
    "import pandas as pd\n",
    "\n",
    "import matplotlib as mpl\n",
    "import matplotlib.pyplot as plt\n",
    "\n",
    "from random import randint\n",
    "from sklearn.cluster import KMeans"
   ]
  },
  {
   "cell_type": "code",
   "execution_count": null,
   "metadata": {},
   "outputs": [],
   "source": [
    "df = pd.read_csv(\"aachen_address_with_distance.csv\")\n",
    "df"
   ]
  },
  {
   "cell_type": "code",
   "execution_count": null,
   "metadata": {},
   "outputs": [],
   "source": [
    "process_df = df.copy()"
   ]
  },
  {
   "cell_type": "markdown",
   "metadata": {},
   "source": [
    "### 1. Assign depot and customers"
   ]
  },
  {
   "cell_type": "code",
   "execution_count": null,
   "metadata": {},
   "outputs": [],
   "source": [
    "x_all = process_df['longitude']\n",
    "y_all = process_df['latitude']\n",
    "\n",
    "depot_condition = process_df['zip_code'] == 52076\n",
    "depot = process_df[depot_condition]\n",
    "customers = process_df[~depot_condition]\n",
    "\n",
    "x_depot = depot['longitude']\n",
    "y_depot = depot['latitude']\n",
    "\n",
    "x_cus = customers['longitude'] # x-axis, can be replaced with customers' location\n",
    "y_cus = customers['latitude'] # y-axis, can be replaced with customers' location\n",
    "zip_code = customers['zip_code']"
   ]
  },
  {
   "cell_type": "markdown",
   "metadata": {},
   "source": [
    "### Visualization"
   ]
  },
  {
   "cell_type": "code",
   "execution_count": null,
   "metadata": {},
   "outputs": [],
   "source": [
    "d_list = [d/40 for d in process_df[\"demand_kg\"]]\n",
    "d_list.remove(0)\n",
    "\n",
    "plt.figure(figsize=(12,6))\n",
    "plt.plot(x_depot, y_depot, c='r', marker='o') # Depot\n",
    "plt.scatter(x_cus, y_cus, c='b', marker=\"o\", s = d_list, alpha=0.5) # Client\n",
    "for idx, row in process_df.iterrows():\n",
    "    plt.annotate(row['zip_code'], (row['longitude'], row['latitude']), textcoords='offset points', xytext=(-8,8), family='sans-serif', fontsize=8)"
   ]
  },
  {
   "attachments": {},
   "cell_type": "markdown",
   "metadata": {},
   "source": [
    "### Decise the number of clusers - tuning k"
   ]
  },
  {
   "cell_type": "code",
   "execution_count": null,
   "metadata": {},
   "outputs": [],
   "source": [
    "from sklearn.metrics import silhouette_score\n",
    "data = pd.DataFrame()\n",
    "data[\"xc\"] = x_cus\n",
    "data[\"yc\"] = y_cus\n",
    "\n",
    "max_k = 8\n",
    "n_init = 9 # Initial centroids will be chosen {n_int} times\n",
    "max_iter = 1000 # each run will run {max_iter} times\n",
    "\n",
    "# Elbow Method:\n",
    "fig, ax = plt.subplots(1, 2, figsize=(15, 5))\n",
    "x = range(1, max_k)\n",
    "y_sse = []\n",
    "for k in range(2, max_k+1):\n",
    "    kmeans = KMeans(n_init=n_init, max_iter=max_iter, n_clusters=k, random_state=42)\n",
    "    kmeans.fit(data)\n",
    "    y_sse.append(kmeans.inertia_)\n",
    "\n",
    "# Add annotations or markers for the differences\n",
    "differences = [y_sse[i] - y_sse[i-1] for i in range(1, len(y_sse))]\n",
    "for i, diff in enumerate(differences):\n",
    "    ax[0].annotate(f\"{diff:.4f}\", ((x[i]+x[i+1])/2, (y_sse[i]+y_sse[i+1])/2), color='#d40511')\n",
    "\n",
    "# Plot the data point\n",
    "for i, j in zip(x, y_sse):\n",
    "    ax[0].text(i, j, f\"{j*10**(-9):.2f}\", ma='center', va='top', color='#5b5b5b')\n",
    "\n",
    "ax[0].plot(x, y_sse, 'o-', color='#ffcc00')\n",
    "ax[0].set_xlabel('k : Number of cluster') \n",
    "ax[0].set_ylabel('Sum of squared distances/Inertia') \n",
    "ax[0].set_title('Elbow Method')\n",
    "\n",
    "# Silhouette Score Method\n",
    "y_silhouette = []\n",
    "for k in range(2, max_k+1):\n",
    "    kmeans = KMeans(n_init=n_init, max_iter=max_iter, n_clusters=k, random_state=42).fit(data)\n",
    "    y_silhouette.append(silhouette_score(data, kmeans.labels_))\n",
    "\n",
    "# Plot the data point\n",
    "for i, j in zip(x, y_silhouette):\n",
    "    ax[1].text(i, j, f\"{j:.4f}\", ma='center', va='top', color='#5b5b5b')\n",
    "\n",
    "ax[1].plot(x, y_silhouette,'o-', c='#ffcc00')\n",
    "ax[1].set_title(\"Silhouette Score Method\")\n",
    "ax[1].set_xlabel(\"k : Number of cluster\")\n",
    "ax[1].set_ylabel(\"Silhouette Score\")\n",
    "plt.show()"
   ]
  },
  {
   "cell_type": "markdown",
   "metadata": {},
   "source": [
    "### => From the results of Elbow method and Silhouette, decide to select cluster num k = 3"
   ]
  },
  {
   "attachments": {},
   "cell_type": "markdown",
   "metadata": {},
   "source": [
    "## Need to check which districting results in the minimum cost"
   ]
  },
  {
   "cell_type": "code",
   "execution_count": null,
   "metadata": {},
   "outputs": [],
   "source": [
    "cmap = plt.get_cmap('tab20')\n",
    "color_map_hex = [mpl.colors.to_hex(c) for c in cmap.colors]\n",
    "\n",
    "cluster_number = 3\n",
    "plt.figure(figsize=(12,6))\n",
    "plt.plot(x_depot, y_depot, color='red', marker='x', linestyle='None', label='Depot') # Depot\n",
    "\n",
    "# Fit K-mean cluster\n",
    "cluster_kmeans = KMeans(n_clusters=cluster_number, n_init=n_init).fit(data)\n",
    "\n",
    "plt.scatter(x_cus, y_cus, c=[color_map_hex[x] for x in cluster_kmeans.labels_], marker=\"o\", s = d_list, alpha=0.5)\n",
    "for idx, row in process_df.iterrows():\n",
    "    plt.annotate(row['zip_code'], (row['longitude'], row['latitude']), textcoords='offset points', xytext=(-8,8), family='sans-serif', fontsize=8)\n",
    "plt.show()"
   ]
  },
  {
   "cell_type": "code",
   "execution_count": null,
   "metadata": {},
   "outputs": [],
   "source": [
    "# Write the result to csv\n",
    "import csv\n",
    "    \n",
    "def write_sol_warehouse(mdl):\n",
    "    rows = []\n",
    "    for v in mdl.getVars():\n",
    "        if v.X != 0:\n",
    "            rows.append([v.VarName,v.X])\n",
    "    header = ['VarName', 'value']\n",
    "    with open(f'solution_warehouse.csv', 'w', newline='') as file:\n",
    "        writer = csv.writer(file)\n",
    "        writer.writerow([\"Objective Value\", mdl.ObjVal])\n",
    "        writer.writerow(header)\n",
    "        writer.writerows(rows)"
   ]
  },
  {
   "cell_type": "markdown",
   "metadata": {},
   "source": [
    "# Warehouse Allocation\n",
    "### Objective: Evenly allocate demand among gates at the warehouse by minimizing the deviation of demands at each gate from the ideal demand of each gate."
   ]
  },
  {
   "attachments": {},
   "cell_type": "markdown",
   "metadata": {},
   "source": [
    "### Minimize:  \n",
    "### $\\displaystyle\\sum_{j=1}^{m} \\left| dg_j - \\sum_{i=1}^{n} dt_i/3 \\right|$<br>\n",
    "\n",
    "### s.t.\n",
    "### - Demand relaxation. The demand at gates is relaxed by 10 percent.\n",
    "### $(0.9 * \\displaystyle\\sum_{i} dt_i * t_{i,j}) / 3 \\le dg_j \\le (1.1 * \\sum_{i} dt_i * t_{i,j}) / 3, \\forall j \\in \\{1, ..., m\\}$<br><br>\n",
    "### - Tour area assignment. Each tour area is assigned only one gate.\n",
    "### $\\displaystyle\\sum_{j} t_{i,j} = 1, \\forall i \\in \\{1, ..., n\\}$<br><br>\n",
    "### - Tour areas at gates. # Each gate is assigned at least one tour area.\n",
    "### $\\displaystyle\\sum_{i} t_{i,j} \\ge 1, \\forall j \\in \\{1, ..., m\\}$<br><br>\n",
    "### - Demand at tour areas and gates. Sum of demands of selected tour areas at a gate should be equal to the relaxed demand at that gate.\n",
    "### $\\displaystyle\\sum_{i} t_{i,j} * dt_i = dg_j, \\forall j \\in \\{1, ..., m\\}$<br><br>\n",
    "### - Total demand. Sum of demands of all tour areas is equal to the sum of demands at all gates.\n",
    "### $\\displaystyle\\sum_{i} t_{i,j} = \\sum_{j} dg_j$<br><br><br>\n",
    "### Constraints\n",
    "### $dg_j \\in Q_+, \\forall j \\in \\{1, ..., m\\}$ <br>\n",
    "### $dt_i \\in Q_+, \\forall i \\in \\{1, ..., n\\}$"
   ]
  },
  {
   "attachments": {},
   "cell_type": "markdown",
   "metadata": {},
   "source": [
    "# Gurobi\n",
    "Documentation: https://www.gurobi.com/documentation/"
   ]
  },
  {
   "cell_type": "code",
   "execution_count": null,
   "metadata": {},
   "outputs": [],
   "source": [
    "import gurobipy as gp\n",
    "from gurobipy import GRB, quicksum"
   ]
  },
  {
   "cell_type": "code",
   "execution_count": null,
   "metadata": {},
   "outputs": [],
   "source": [
    "mdl_allocation = gp.Model(\"Warehouse Allocation\")\n",
    "mdl_allocation.reset(0)"
   ]
  },
  {
   "cell_type": "markdown",
   "metadata": {},
   "source": [
    "### Set up variables"
   ]
  },
  {
   "cell_type": "code",
   "execution_count": null,
   "metadata": {},
   "outputs": [],
   "source": [
    "demands = process_df[\"demand_kg\"] # Include depot\n",
    "\n",
    "customer_demands = demands[1:].tolist() # Customer demand\n",
    "clustered_result = cluster_kmeans.labels_.tolist()\n",
    "\n",
    "dist_zip_map = {k: [] for k in range(cluster_number+1)} # Disctrict - zipcode map\n",
    "zip_dist_map = {0:0} # Zipcode - disctrict map\n",
    "\n",
    "for idx, dist in enumerate(clustered_result):\n",
    "    zip_dist_map[idx+1] = dist+1\n",
    "for idx, district in enumerate(clustered_result):\n",
    "    dist_zip_map[district+1].append(idx+1) # District starts from 1\n",
    "\n",
    "print(f\"dist_zip_map: {dist_zip_map}\\nzip_dist_map: {zip_dist_map}\")"
   ]
  },
  {
   "cell_type": "code",
   "execution_count": null,
   "metadata": {},
   "outputs": [],
   "source": [
    "# All start from index 1\n",
    "gates = [i for i in range (1, 4)] # Change gate number here\n",
    "clusters = [i for i in range (1, cluster_number+1)]\n",
    "ideal_value = sum(customer_demands) / len(gates)"
   ]
  },
  {
   "cell_type": "code",
   "execution_count": null,
   "metadata": {},
   "outputs": [],
   "source": [
    "dt = {}\n",
    "for t in range(1, len(clusters)+1):\n",
    "    dt[t] = sum(demands[j] for j in dist_zip_map[t])\n",
    "dt"
   ]
  },
  {
   "cell_type": "code",
   "execution_count": null,
   "metadata": {},
   "outputs": [],
   "source": [
    "mdl_allocation = gp.Model(\"Warehouse Allocation\")\n",
    "\n",
    "# Objective function\n",
    "abs_var = mdl_allocation.addVars(gates, lb=0) \n",
    "mdl_allocation.modelSense = GRB.MINIMIZE\n",
    "mdl_allocation.setObjective(gp.quicksum(abs_var[j] for j in gates))\n",
    "\n",
    "# Decision variables\n",
    "dg = mdl_allocation.addVars(gates, lb=0, vtype=GRB.CONTINUOUS, name=\"dg\") # Demand of gate j\n",
    "t = mdl_allocation.addVars(clusters, gates, vtype=GRB.BINARY, name=\"t\") # Whether tour area i is allocated to gate j or not"
   ]
  },
  {
   "cell_type": "code",
   "execution_count": null,
   "metadata": {},
   "outputs": [],
   "source": [
    "# Change objective function to linear.\n",
    "mdl_allocation.addConstrs(((abs_var[j] >= dg[j] - ideal_value) for j in gates), name=\"obj-to-linear-1\")\n",
    "mdl_allocation.addConstrs(((abs_var[j] >= -dg[j] + ideal_value) for j in gates), name=\"obj-to-linear-2\")"
   ]
  },
  {
   "cell_type": "code",
   "execution_count": null,
   "metadata": {},
   "outputs": [],
   "source": [
    "# Demand relaxation. By +- 10 percent at gates.\n",
    "for j in gates:\n",
    "    mdl_allocation.addConstr((quicksum(0.9 * dt[i] * t[i,j] for i in clusters) <= dg[j]), name=f\"lhs-demand-relaxation-g{j}\")\n",
    "    mdl_allocation.addConstr((quicksum(1.1 * dt[i] * t[i,j]for i in clusters) >= dg[j]), name=f\"rhs-demand-relaxation-g{j}\")"
   ]
  },
  {
   "cell_type": "code",
   "execution_count": null,
   "metadata": {},
   "outputs": [],
   "source": [
    "# tour area assignment. Each tour area is assigned only one gate.\n",
    "mdl_allocation.addConstrs((quicksum(t[i,j] for j in gates) == 1 for i in clusters), name=f\"tour-area-assignment-t{i}\")"
   ]
  },
  {
   "cell_type": "code",
   "execution_count": null,
   "metadata": {},
   "outputs": [],
   "source": [
    "# Tour areas at gates. Each gate is assigned at least one tour area.\n",
    "mdl_allocation.addConstrs((quicksum(t[i,j] for i in clusters) >= 1 for j in gates), name=f\"each-gate-at-least-one-tour-area\")"
   ]
  },
  {
   "cell_type": "code",
   "execution_count": null,
   "metadata": {},
   "outputs": [],
   "source": [
    "# Demand at tour areas and gates. Sum of demands of selected tour areas at a particular gate should be equal to the relaxed demand of that gate.\n",
    "mdl_allocation.addConstrs((quicksum(t[i,j] * dt[i] for i in clusters) == dg[j] for j in gates), name=f\"demand-tour-gate-relation\")"
   ]
  },
  {
   "cell_type": "code",
   "execution_count": null,
   "metadata": {},
   "outputs": [],
   "source": [
    "# Sum of demands of all tour areas is equal to the sum of demands of all gates.\n",
    "mdl_allocation.addConstr(quicksum(dg[j] for j in gates) == sum(dt[i]for i in clusters), name=f\"all-demand-assigned\")"
   ]
  },
  {
   "cell_type": "code",
   "execution_count": null,
   "metadata": {},
   "outputs": [],
   "source": [
    "need_print_mdl = False # For debugging\n",
    "if need_print_mdl:\n",
    "    mdl_allocation.write(\"model_allocation.lp\")\n",
    "\n",
    "mdl_allocation.optimize()\n",
    "if mdl_allocation.Status == GRB.INFEASIBLE:\n",
    "    mdl_allocation.computeIIS()\n",
    "    mdl_allocation.write(\"result_warehouse_iis.ilp\")\n",
    "# Print the solution\n",
    "elif mdl_allocation.status == GRB.OPTIMAL:\n",
    "    print(\"Optimal solution found!\")\n",
    "    # print(mdl.PoolObjVal) # Objective value of alternatives solutions stored during the optimization process\n",
    "    write_sol_warehouse(mdl_allocation)\n",
    "elif mdl_allocation.Status == GRB.TIME_LIMIT:\n",
    "    print(\"Reached time limit!\")\n",
    "    write_sol_warehouse(mdl_allocation)\n",
    "else:\n",
    "    print(\"No solution found.\")"
   ]
  },
  {
   "attachments": {},
   "cell_type": "markdown",
   "metadata": {},
   "source": [
    "# CVRP\n",
    "### Objective: Minimize the total transportation cost."
   ]
  },
  {
   "cell_type": "markdown",
   "metadata": {},
   "source": [
    "### Minimize:  \n",
    "### $\\displaystyle\\sum_{k \\in T} \\sum_{(i, j) \\in A} x^k_{(i,j)} c_{(i,j)} + \\sum_{k \\in T, j \\in N} x^k_{(0,j)} F_k $<br>\n",
    "\n",
    "### s.t.\n",
    "### - Can only travel within tour areas. Make invalid arcs zero\n",
    "### $x^{k}_{(i, j)} = 0, \\forall (i,j) \\notin A, k \\in T$<br><br>\n",
    "### - Truck usage. Each truck can only be used at most once.\n",
    "### $\\displaystyle\\sum_{j \\in N} x^k_{(0,j)} \\le 1, k \\in T$<br><br>\n",
    "### - In-coming and out-going limitation. The number of vehicles coming in and out of a customer’s location is the same.\n",
    "### $\\displaystyle\\sum_{i \\in V, i \\neq j} x^k_{(i, j)} - \\sum_{i \\in V} x^k_{(j, i)} = 0, \\forall j \\in V, k \\in T$\n",
    "### - Zip code visit. Only one visit per vehicle per customer’s location.\n",
    "### $\\displaystyle\\sum_{k \\in T} \\sum_{i \\in V, i \\neq j} x^k_{(i, j)} = 1, \\forall j \\in V  \\backslash \\{0\\}$\n",
    "### - Capacity constraint. \n",
    "### 1. $u_i^k + q_j <= u_i^k + M * (1-x_{(i,j)}^k) \\quad \\forall k\\in T, (i,j)\\in A:j\\neq 0,i\\neq 0,i\\neq j$ # If truck k visits zip code i ($u^k_{i}$), then the total load after visiting zip code i plus the demand at zip code j ($q_{j}$) must not exceed the total load after visiting zip code j ($u^k_{j}$), unless the arc (i, j) is not selected ($x^k_{(i,j)} = 0$). This constraint ensures that the vehicle’s capacity limitations are respected during the routing process.<br>\n",
    "<!-- if truck k visited i, the loading after visiting i + demand in j cannot exceed trucking loading after visiting j<br><br> -->\n",
    "### 2. $\\displaystyle\\sum_{i, j \\in A}q_i * x_{(j,i)}^k \\leq Q_k \\quad ,\\forall k\\in T$ # Total demand of zip codes served by truck k cannot exceed truck k’s capacity.\n",
    "<br>\n",
    "<!-- total demand of zip codes served by truck k cannot exceed truck k’s capacity -->"
   ]
  },
  {
   "cell_type": "markdown",
   "metadata": {},
   "source": [
    "#### 1.1 Set Description\n",
    "$N = \\{1,2,\\ldots,n\\}$: the set of $n$ zip codes<br>\n",
    "$V = \\{d,1,2,\\ldots,n\\}$: the set of $n$ zip codes includes the depot $d$<br>\n",
    "$T = \\{1,2,\\ldots,t\\}$: the set of $k$ trucks<br>\n",
    "$A$: the set of valid arcs<br>\n",
    "$M = \\{1, 2, 3, 4, 5\\}$: the set of truck types<br>\n",
    "(1: type-4, 2: type-5, 3: type6-, 4: type-7, 5: type-9)<br>\n",
    "$TM\\_map$ = \\{1:385.09 €, 2:350.95€, 3:385.86€, 4:405.63€, 5:430.26€\\}: the truck price, which is the average price of each type of vehicle.<br>\n",
    "$TQ\\_map$ = \\{1:800, 2:2800, 3:5500, 4:20000, 5:20000\\}: the truck capacity"
   ]
  },
  {
   "attachments": {},
   "cell_type": "markdown",
   "metadata": {},
   "source": [
    "#### 1.2 Variable Description\n",
    "$n$: the number of zip codes<br>\n",
    "$k$: the number of trucks<br>\n",
    "$m$: the number of truck types<br>\n",
    "$q_i \\in\\mathbf{R} \\quad ,\\forall i\\in N$: the zip-code $i$'s demand<br>\n",
    "$c_{ij}\\in\\mathbf{R}\\quad\\forall i,j \\in A$: the travel cost(distance) between zip code $i$ and $j$<br>\n",
    "$Q^k \\in \\mathbf{Q_+} \\quad \\forall k\\in T, p \\in P$: the truck k's capacity<br>\n",
    "$F^k \\in \\mathbf{Q_+} \\quad \\forall k\\in T, p \\in P$: the truck k's price<br>"
   ]
  },
  {
   "attachments": {},
   "cell_type": "markdown",
   "metadata": {},
   "source": [
    "#### 1.3 Parameter Description\n",
    "$x_{ij}^k \\in\\{0,1\\} \\quad ,\\forall i,j\\in A, k\\in T$: truck $k$ travels from zip code $i$ to $j$<br>\n",
    "$u_i^k\\in\\mathbf{Z_+}  \\quad ,\\forall  i\\in N, k\\in T$: $k$ truck loading after visiting zip code $i$"
   ]
  },
  {
   "cell_type": "code",
   "execution_count": null,
   "metadata": {},
   "outputs": [],
   "source": [
    "mdl = gp.Model(\"CVRP\")\n",
    "mdl.reset(0)"
   ]
  },
  {
   "cell_type": "code",
   "execution_count": null,
   "metadata": {},
   "outputs": [],
   "source": [
    "# Create type_number_map\n",
    "\n",
    "# Pick certain date\n",
    "vehicle_df = pd.read_csv(\"vehicles.csv\")\n",
    "filtered_df = vehicle_df.loc[vehicle_df['Date'] == \"31/3/2023\"]\n",
    "\n",
    "# Max vehicles should be used (dynamic)\n",
    "max_vehicles = filtered_df[\"Vehicle / Day_modified\"].sum()\n",
    "\n",
    "# The set of truck types\n",
    "M = [1, 2, 3, 4, 5] # \"type4\", \"type5\", \"type6\", \"type7\", \"type9\"\n",
    "\n",
    "# Set map for type and available vehicle number\n",
    "type_number_map = {}\n",
    "\n",
    "# Only for Fahrzeugklasse mapping to M\n",
    "real_type_map = {\n",
    "    4:0,\n",
    "    5:1,\n",
    "    6:2,\n",
    "    7:3,\n",
    "    9:4\n",
    "}\n",
    "\n",
    "# Set available number of truck to each type\n",
    "for i, row in filtered_df.iterrows():\n",
    "    type_number_map[M[real_type_map[row[\"Vehicle_class\"]]]] = row[\"Vehicle / Day_modified\"]\n",
    "\n",
    "# Handle certain type not used\n",
    "for i in M:\n",
    "    try:\n",
    "        type_number_map[i]\n",
    "    except KeyError:\n",
    "        type_number_map[i] = 0\n",
    "type_number_map"
   ]
  },
  {
   "cell_type": "code",
   "execution_count": null,
   "metadata": {},
   "outputs": [],
   "source": [
    "# The set of zip codes that belong to the k-th cluster\n",
    "N = [i for i in range (1, len(customers)+1)] # The set of zip codes\n",
    "V = [i for i in range (len(process_df))] # The set of all nodes (include depot)\n",
    "T = [k for k in range(1, max_vehicles+1)] # Max truck num we have\n",
    "\n",
    " # Valid arcs\n",
    "A = []\n",
    "for i in V:\n",
    "    # From / to depot \n",
    "    if i == 0:\n",
    "        A.extend([(i,k) for k in V if i != k])\n",
    "        A.extend([(k,i) for k in V if i != k])\n",
    "    A.extend([(i,j) for j in dist_zip_map[zip_dist_map[i]] if j != i])\n",
    "\n",
    "# Type capacity map\n",
    "TQ_map = {\n",
    "    0: 0,\n",
    "    M[0]: 800, # type 4\n",
    "    M[1]: 2800, # type 5\n",
    "    M[2]: 5500, # type 6\n",
    "    M[3]: 20000, # type 7\n",
    "    M[4]: 20000, # type 9\n",
    "}\n",
    "\n",
    "# Type price map. Use the monthly average price from the vehicle data.\n",
    "TM_map = {\n",
    "    0:0,\n",
    "    M[0]: 385.09, # type 4\n",
    "    M[1]: 350.95, # type 5\n",
    "    M[2]: 385.86, # type 6\n",
    "    M[3]: 405.63, # type 7\n",
    "    M[4]: 430.26, # type 9\n",
    "}\n",
    "\n",
    "# Assign type to each truck\n",
    "Q = {}\n",
    "F = {}\n",
    "truck_type_map = {}\n",
    "count = 1\n",
    "for i in M:\n",
    "    for j in range (type_number_map[i]):\n",
    "        Q[count] = TQ_map[i]\n",
    "        F[count] = TM_map[i]\n",
    "        truck_type_map[count] = i\n",
    "        count += 1\n",
    "\n",
    "print(f\"N: {N} \\nV: {V}\\nT: {T}\\nA: {A}\\nM: {M}\\nQ: {Q}\\nF: {F}\")\n",
    "\n",
    "# Number of customers\n",
    "num_customers = len(demands) - 1\n",
    "\n",
    "# Distance\n",
    "c = {} \n",
    "for i in range(len(process_df)):\n",
    "    for j, row in process_df.iterrows():\n",
    "        c[(i,j)] = row[f\"distance_km_from_{i}\"] # Use distances in test_data.csv\n",
    "\n",
    "# Demand of zip code\n",
    "q = {}\n",
    "for idx, demand in enumerate(demands):\n",
    "    q[idx] = demand"
   ]
  },
  {
   "cell_type": "code",
   "execution_count": null,
   "metadata": {},
   "outputs": [],
   "source": [
    "big_M = 20001\n",
    "\n",
    "mdl = gp.Model(\"CVRP\")\n",
    "x = mdl.addVars(V, V, T, vtype=GRB.BINARY, name=\"x\") # Whether truck k travels from zip code i to j?\n",
    "u = mdl.addVars(V, T, lb=0, ub=20000, vtype=GRB.CONTINUOUS, name=\"u\") # Truck k loading after visiting zip code i, and need to be positive value\n",
    "\n",
    "# Objective function\n",
    "mdl.modelSense = GRB.MINIMIZE\n",
    "mdl.setObjective(quicksum(c[(i,j)] * x[i, j, k] for i,j in A for k in T) + quicksum(F[k] * x[0, j, k] for j in N for k in T))"
   ]
  },
  {
   "cell_type": "code",
   "execution_count": null,
   "metadata": {},
   "outputs": [],
   "source": [
    "# Can only travel within tour areas. If i, j not in valid arc, set 0\n",
    "mdl.addConstrs((x[i, j, k] == 0 for i in V for j in V for k in T if (i,j) not in A), name=f\"only-travel-tour-area\")"
   ]
  },
  {
   "cell_type": "code",
   "execution_count": null,
   "metadata": {},
   "outputs": [],
   "source": [
    "# In-coming and out-going limitation. The number of vehicles coming in and out of a customer’s location is the same\n",
    "for j in V:\n",
    "    for k in T:\n",
    "        mdl.addConstr((quicksum(x[i, j, k] for i in V if i != j) - quicksum(x[j, i, k] for i in V) == 0), name=f\"in-out-{j}-{k}\")"
   ]
  },
  {
   "cell_type": "code",
   "execution_count": null,
   "metadata": {},
   "outputs": [],
   "source": [
    "# Zip Code visit. Every zip-cide is exactly visited once\n",
    "for j in N:\n",
    "    mdl.addConstr((quicksum(x[i, j, k] for k in T for i in V if i != j) == 1), name=f\"zip-vistied-once-{j}\")"
   ]
  },
  {
   "cell_type": "code",
   "execution_count": null,
   "metadata": {},
   "outputs": [],
   "source": [
    "# Each truck can only be used at most once\n",
    "mdl.addConstrs((quicksum(x[0, j, k] for j in N) <= 1 for k in T), name=f\"truck-only-depart-once\")"
   ]
  },
  {
   "cell_type": "code",
   "execution_count": null,
   "metadata": {},
   "outputs": [],
   "source": [
    "# Capacity constraint. If truck k visited i, the loading after visiting i + demand in j cannot exceed trucking loading after visiting j\n",
    "mdl.addConstrs((u[i, k]+q[j] <= u[j, k] + big_M * (1-x[i,j,k]) for i, j in A for k in T if i !=0 and j != 0), name=f\"loading\")\n",
    "for k in T:\n",
    "    mdl.addConstr((quicksum(q[j] * x[i,j,k] for i, j in A) <= Q[k]), name=f\"demand-of-k{k}-visited\")"
   ]
  },
  {
   "cell_type": "code",
   "execution_count": null,
   "metadata": {},
   "outputs": [],
   "source": [
    "def write_sol(mdl):\n",
    "    rows = []\n",
    "    used = 0\n",
    "    truck_total_cost = 0\n",
    "    used_truck_type = {}\n",
    "    for v in mdl.getVars():\n",
    "        if v.X == 0:\n",
    "            continue\n",
    "        rows.append([v.VarName,v.X])\n",
    "        # calculate how many trucks are used\n",
    "        if \"x[0,\" not in v.VarName:\n",
    "            continue\n",
    "        used += 1\n",
    "        \n",
    "        # print truck cost\n",
    "        end = v.VarName.find(\"]\", 0)\n",
    "        sub = v.VarName[:end]\n",
    "        k = int(sub.split(',')[-1])\n",
    "        truck_total_cost += F[k]\n",
    "        try:\n",
    "            used_truck_type[f'{Q[k]}_{F[k]}'] += 1\n",
    "        except KeyError:\n",
    "            used_truck_type[f'{Q[k]}_{F[k]}'] = 1\n",
    "    header = ['VarName', 'value']\n",
    "    with open(f'solution_cvrp.csv', 'w', newline='') as file:\n",
    "        writer = csv.writer(file)\n",
    "        writer.writerow([\"Objective Value\", mdl.ObjVal])\n",
    "        writer.writerow([\"Truck Used\", used])\n",
    "        writer.writerow([\"Total Distance\", mdl.ObjVal-truck_total_cost])\n",
    "        writer.writerow([\"Truck Total Cost\", truck_total_cost])\n",
    "        writer.writerow([\"Used Truck Type\", used_truck_type])\n",
    "        writer.writerow(header)\n",
    "        writer.writerows(rows)"
   ]
  },
  {
   "cell_type": "code",
   "execution_count": null,
   "metadata": {},
   "outputs": [],
   "source": [
    "if need_print_mdl:\n",
    "    mdl.write(f\"model_cvrp.lp\")\n",
    "\n",
    "mdl.optimize()\n",
    "if mdl.Status == GRB.INFEASIBLE:\n",
    "    mdl.computeIIS()\n",
    "    mdl.write(\"result_iis.ilp\")\n",
    "elif mdl.status == GRB.OPTIMAL:\n",
    "    print(\"Optimal solution found!\")\n",
    "    write_sol(mdl)\n",
    "elif mdl.Status == GRB.TIME_LIMIT:\n",
    "    print(\"Reached time limit!\")\n",
    "    write_sol(mdl)\n",
    "else:\n",
    "    print(\"No solution found.\")"
   ]
  },
  {
   "cell_type": "markdown",
   "metadata": {},
   "source": [
    "### Visualize the result"
   ]
  },
  {
   "cell_type": "code",
   "execution_count": null,
   "metadata": {},
   "outputs": [],
   "source": [
    "active_routes = [[i,j,k] for i,j in A for k in T if x[i, j, k].x > 0.99]\n",
    "\n",
    "plt.figure(figsize=(12,6))\n",
    "plt.plot(x_depot, y_depot, c='r', marker='x') # depot\n",
    "plt.scatter(x_cus, y_cus, c=[color_map_hex[x] for x in cluster_kmeans.labels_], marker=\"o\", s = d_list, alpha=0.5)\n",
    "for idx, row in process_df.iterrows():\n",
    "    plt.annotate(row['demand_kg'], (row['longitude'], row['latitude']), textcoords='offset points', xytext=(-8,8), family='sans-serif', fontsize=8)\n",
    "    plt.annotate(idx, (row['longitude'], row['latitude']), textcoords='offset points', xytext=(-8,16), family='sans-serif', fontsize=8, c='grey')\n",
    "for i,j,k in active_routes:\n",
    "    plt.plot([x_all[i], x_all[j]], [y_all[i], y_all[j]], c=color_map_hex[truck_type_map[k]], zorder=0)\n",
    "title_name = f'CVRP_result'\n",
    "plt.title(title_name)\n",
    "# plt.savefig(f'{title_name}.png') # Save img\n",
    "plt.show()"
   ]
  }
 ],
 "metadata": {
  "kernelspec": {
   "display_name": "venv",
   "language": "python",
   "name": "python3"
  },
  "language_info": {
   "codemirror_mode": {
    "name": "ipython",
    "version": 3
   },
   "file_extension": ".py",
   "mimetype": "text/x-python",
   "name": "python",
   "nbconvert_exporter": "python",
   "pygments_lexer": "ipython3",
   "version": "3.10.0"
  },
  "orig_nbformat": 4
 },
 "nbformat": 4,
 "nbformat_minor": 2
}
